{
 "cells": [
  {
   "cell_type": "markdown",
   "metadata": {},
   "source": [
    "https://www.plattform-i40.de/IP/Redaktion/EN/Downloads/Publikation/Details_of_the_Asset_Administration_Shell_Part1_V3.html"
   ]
  },
  {
   "cell_type": "code",
   "execution_count": null,
   "metadata": {},
   "outputs": [],
   "source": [
    "from rdflib import BNode, ConjunctiveGraph, Dataset, Graph, URIRef"
   ]
  },
  {
   "cell_type": "markdown",
   "metadata": {},
   "source": [
    "# Construct AAS (template) from OWL ontology"
   ]
  },
  {
   "cell_type": "code",
   "execution_count": null,
   "metadata": {},
   "outputs": [],
   "source": [
    "prefixes = {\n",
    "    'prov': 'http://www.w3.org/ns/prov#',\n",
    "    'skos': 'http://www.w3.org/2004/02/skos/core#',\n",
    "    'mas4ai': 'http://example.org/MAS4AI_GenericModel#',\n",
    "    'aas': 'https://admin-shell.io/aas/3/0/RC01/',\n",
    "    'aasenv': 'https://admin-shell.io/aas/3/0/RC01/AssetAdministrationShellEnvironment/',\n",
    "    'aasaas': 'https://admin-shell.io/aas/3/0/RC01/AssetAdministrationShell/',\n",
    "    'aassm': 'https://admin-shell.io/aas/3/0/RC01/Submodel/',\n",
    "    'aassmc': 'https://admin-shell.io/aas/3/0/RC01/SubmodelElementCollection/',\n",
    "    'aasrefer': 'https://admin-shell.io/aas/3/0/RC01/Referable/',\n",
    "    'aasprop': 'https://admin-shell.io/aas/3/0/RC01/Property/',\n",
    "    'aasrefe': 'https://admin-shell.io/aas/3/0/RC01/ReferenceElement/',\n",
    "    'aasref': 'https://admin-shell.io/aas/3/0/RC01/Reference/',\n",
    "    'aaskey': 'https://admin-shell.io/aas/3/0/RC01/Key/',\n",
    "    'aaskeyt': 'https://admin-shell.io/aas/3/0/RC01/KeyType/',\n",
    "    'aaskind': 'https://admin-shell.io/aas/3/0/RC01/HasKind/',\n",
    "    'aasmod': 'https://admin-shell.io/aas/3/0/RC01/ModelingKind/',\n",
    "    'aassem': 'https://admin-shell.io/aas/3/0/RC01/HasSemantics/',\n",
    "\n",
    "    'aasrel': 'https://admin-shell.io/aas/3/0/RC01/RelationshipElement/',\n",
    "    'aasdata': 'https://admin-shell.io/aas/3/0/RC01/HasDataSpecification/',\n",
    "    'aasrange': 'https://admin-shell.io/aas/3/0/RC01/Range/',\n",
    "    'aasida': 'https://admin-shell.io/aas/3/0/RC01/Identifiable/',\n",
    "    'aaside': 'https://admin-shell.io/aas/3/0/RC01/Identifier/'\n",
    "}\n",
    "\n",
    "def add_prefixes(graph):\n",
    "    for k,v in prefixes.items():\n",
    "        graph.namespace_manager.bind(k, URIRef(v))"
   ]
  },
  {
   "cell_type": "markdown",
   "metadata": {},
   "source": [
    "## Initialize data model/graph"
   ]
  },
  {
   "cell_type": "code",
   "execution_count": null,
   "metadata": {},
   "outputs": [],
   "source": [
    "dataset = Dataset()\n",
    "\n",
    "file_name = 'mas4aiDEMO'\n",
    "g_owl = dataset.graph(identifier=URIRef('http://mas4ai.eu/id/graph/owl'))\n",
    "g_owl.parse(f'examples/{file_name}.ttl')\n",
    "\n",
    "g_AAS_ont = dataset.graph(identifier=URIRef('https://admin-shell.io/aas/3/0/RC01/'))\n",
    "g_AAS_ont.parse('https://raw.githubusercontent.com/admin-shell-io/aas-specs/master/schemas/rdf/rdf-ontology.ttl', format='text/turtle')\n",
    "# g_AAS_ont.parse('https://raw.githubusercontent.com/admin-shell-io/aas-specs/draft-V3RC02-schemas/schemas/rdf/rdf-ontology.ttl', format='text/turtle')\n",
    "\n",
    "g_AAS = dataset.graph(identifier=URIRef('http://mas4ai.eu/id/graph/aas'))\n",
    "\n",
    "g_conj = ConjunctiveGraph(dataset.store)"
   ]
  },
  {
   "cell_type": "markdown",
   "metadata": {},
   "source": [
    "### Enrich the shapes graph"
   ]
  },
  {
   "cell_type": "markdown",
   "metadata": {},
   "source": [
    "#### Import referenced ontologies"
   ]
  },
  {
   "cell_type": "code",
   "execution_count": null,
   "metadata": {},
   "outputs": [],
   "source": [
    "[o for o in g_owl.objects(predicate=URIRef('http://www.w3.org/2002/07/owl#imports'))]"
   ]
  },
  {
   "cell_type": "raw",
   "metadata": {
    "scrolled": false
   },
   "source": [
    "for o in g_owl.objects(predicate=URIRef('http://www.w3.org/2002/07/owl#imports')):\n",
    "    try:\n",
    "        g_owl.parse(o.toPython())\n",
    "    except:\n",
    "        try:\n",
    "            g_owl.parse('examples/' + o.toPython().split('/')[-1] + '.ttl')\n",
    "        except FileNotFoundError:\n",
    "            print('Cannot import ', o.toPython())"
   ]
  },
  {
   "cell_type": "markdown",
   "metadata": {},
   "source": [
    "#### Add statements to indicate which classes should get an AAS"
   ]
  },
  {
   "cell_type": "code",
   "execution_count": null,
   "metadata": {},
   "outputs": [],
   "source": [
    "aas_classes = [\n",
    "    'http://www.tno.nl/mas4aiDEMO#RoboticArm', 'http://www.tno.nl/mas4aiDEMO#Tool',\n",
    "]\n",
    "\n",
    "for c in aas_classes:\n",
    "    g_owl.add((URIRef(c), URIRef('http://example.org/MAS4AI_GenericModel#hasInterface'), BNode()))"
   ]
  },
  {
   "cell_type": "markdown",
   "metadata": {},
   "source": [
    "#### Infer properties from super classes\n",
    "Use inference tool?"
   ]
  },
  {
   "cell_type": "code",
   "execution_count": null,
   "metadata": {},
   "outputs": [],
   "source": [
    "g_owl.update('''\n",
    "INSERT {\n",
    "  ?Property rdfs:domain ?SubClass\n",
    "}\n",
    "WHERE {\n",
    "  VALUES ?PropertyType {owl:ObjectProperty owl:DatatypeProperty}\n",
    "  ?Property a ?PropertyType ;\n",
    "    rdfs:domain ?Class .\n",
    "  ?SubClass rdfs:subClassOf+ ?Class .\n",
    "}\n",
    "''')"
   ]
  },
  {
   "cell_type": "markdown",
   "metadata": {},
   "source": [
    "## Construct AAS components\n",
    "* Construct components, starting from the lowest level.\n",
    "* Add (temporary) provenance data (`prov:wasDerivedFrom`) that can be used to link the different AAS components."
   ]
  },
  {
   "cell_type": "markdown",
   "metadata": {},
   "source": [
    "### Property\n",
    "* The `sh:path` of a `sh:PropertyShape` should be mapped to the `aassem:semanticId` reference;\n",
    "* A `sh:PropertyShape` without a `sh:class` is an `aas:Property`."
   ]
  },
  {
   "cell_type": "code",
   "execution_count": null,
   "metadata": {},
   "outputs": [],
   "source": [
    "add_prefixes(dataset)\n",
    "\n",
    "g_AAS.parse(data=g_owl.query('''\n",
    "CONSTRUCT {\n",
    "  # Property\n",
    "  ?Property_iri a aas:Property ;\n",
    "    aasprop:valueType ?dataType ;\n",
    "    aassem:semanticId [\n",
    "      a aas:Reference ;\n",
    "      aasref:keys [\n",
    "        a aas:Key ;\n",
    "        aaskey:idType aaskeyt:IRI ;\n",
    "        aaskey:value ?Property ;\n",
    "      ] ;\n",
    "    ] ;\n",
    "    prov:wasDerivedFrom ?Property ;\n",
    "  .\n",
    "}\n",
    "WHERE {\n",
    "  ?Property a owl:DatatypeProperty ; #filter out reference properties\n",
    "    rdfs:range ?dataType .\n",
    "\n",
    "  BIND(iri(concat( \"http://mas4ai.eu/id/property/template/\", struuid() )) as ?Property_iri)\n",
    "}\n",
    "''').graph.serialize())"
   ]
  },
  {
   "cell_type": "markdown",
   "metadata": {},
   "source": [
    "### ReferenceElement\n",
    "* A `sh:PropertyShape` that has a `sh:class`, is mapped to a `aas:ReferenceElement`."
   ]
  },
  {
   "cell_type": "code",
   "execution_count": null,
   "metadata": {},
   "outputs": [],
   "source": [
    "add_prefixes(dataset)\n",
    "\n",
    "g_AAS.parse(data=g_owl.query('''\n",
    "CONSTRUCT {\n",
    "  # Reference Element\n",
    "  ?ReferenceElement_iri a aas:ReferenceElement ;\n",
    "    aassem:semanticId [\n",
    "      a aas:Reference ;\n",
    "      aasref:keys [\n",
    "        a aas:Key ;\n",
    "        aaskey:idType aaskeyt:IRI ;\n",
    "        aaskey:value ?ReferenceElement ;\n",
    "      ] ;\n",
    "    ] ;\n",
    "    prov:wasDerivedFrom ?ReferenceElement ;\n",
    "  .\n",
    "}\n",
    "WHERE {\n",
    "  ?ReferenceElement a owl:ObjectProperty ; #filter on reference properties\n",
    "      rdfs:range ?Class .\n",
    "\n",
    "  FILTER EXISTS { ?Class mas4ai:hasInterface [] } #otherwise it should be a Submodel or SMC\n",
    "\n",
    "  BIND(iri(concat( \"http://mas4ai.eu/id/referenceElement/template/\", struuid() )) as ?ReferenceElement_iri)\n",
    "}\n",
    "''').graph.serialize())"
   ]
  },
  {
   "cell_type": "markdown",
   "metadata": {},
   "source": [
    "### Submodel Element Collection\n",
    "* A `sh:NodeShape` of which the related `sh:targetClass` does not have `mas4ai:hasInterface` and is not 'directly related' to a `sh:NodeShape` of this kind, should be mapped to a `aas:SubmodelElementCollection` ('PropertyCollection').\n",
    "* A `sh:PropertyShape` with `sh:maxCount > 1` should be embedded in an `aas:SubmodelElementCollection` (for example jobs) ;"
   ]
  },
  {
   "cell_type": "markdown",
   "metadata": {},
   "source": [
    "#### 'Property Collection'"
   ]
  },
  {
   "cell_type": "code",
   "execution_count": null,
   "metadata": {},
   "outputs": [],
   "source": [
    "add_prefixes(dataset)\n",
    "\n",
    "g_AAS.parse(data=g_owl.query('''\n",
    "CONSTRUCT {\n",
    "  # Submodel Element Collection (SMC)\n",
    "  ?SMC_iri a aas:SubmodelElementCollection ;\n",
    "    aassem:semanticId [\n",
    "      a aas:Reference ;\n",
    "      aasref:keys [\n",
    "        a aas:Key ;\n",
    "        aaskey:idType aaskeyt:IRI ;\n",
    "        aaskey:value ?Class ;\n",
    "      ] ;\n",
    "    ] ;\n",
    "    prov:wasDerivedFrom ?NodeShape ;\n",
    "  .\n",
    "}\n",
    "WHERE {\n",
    "  {\n",
    "    ?Class a owl:Class .\n",
    "  } UNION {\n",
    "    ?Class a rdfs:Class .\n",
    "  }\n",
    "\n",
    "  ?Property rdfs:range ?Class .\n",
    "\n",
    "  FILTER EXISTS { [] rdfs:domain ?Class }\n",
    "  FILTER NOT EXISTS { ?Class mas4ai:hasInterface [] }\n",
    "  FILTER NOT EXISTS {\n",
    "    #exclude classes 'directly related to' the 'main' MAS4AI class\n",
    "    ?Property rdfs:domain/mas4ai:hasInterface [] ;\n",
    "      rdfs:range ?Class .\n",
    "  }\n",
    "\n",
    "  BIND(iri(concat( \"http://mas4ai.eu/id/smc/template/\", struuid() )) as ?SMC_iri)\n",
    "}\n",
    "''').graph.serialize())"
   ]
  },
  {
   "cell_type": "markdown",
   "metadata": {},
   "source": [
    "#### Cardinality >1 properties"
   ]
  },
  {
   "cell_type": "code",
   "execution_count": null,
   "metadata": {},
   "outputs": [],
   "source": [
    "add_prefixes(dataset)\n",
    "\n",
    "g_AAS.parse(data=g_owl.query('''\n",
    "CONSTRUCT {\n",
    "  # Submodel Element Collection (SMC)\n",
    "  ?SMC_iri a aas:SubmodelElementCollection ;\n",
    "    aasrefer:idShort ?SMCidShort  ;\n",
    "    aassem:semanticId [\n",
    "      a aas:Reference ;\n",
    "      aasref:keys [\n",
    "        a aas:Key ;\n",
    "        aaskey:idType aaskeyt:IRI ;\n",
    "        aaskey:value ?Property ;\n",
    "      ] ;\n",
    "    ] ;\n",
    "    prov:wasDerivedFrom ?Property, ?Class ;\n",
    "  .\n",
    "}\n",
    "WHERE {\n",
    "  VALUES ?PropertyType {owl:ObjectProperty owl:DatatypeProperty}\n",
    "  {\n",
    "    ?Property a ?PropertyType ;\n",
    "      rdfs:label ?propertyLabel ;\n",
    "      owl:maxCardinality ?maxCardinality .\n",
    "    FILTER( ?maxCardinality > 1 )\n",
    "  } UNION {\n",
    "    ?Property a ?PropertyType ;\n",
    "      rdfs:label ?propertyLabel .\n",
    "    FILTER NOT EXISTS { ?Property owl:maxCardinality [] } #if owl:maxCardinality>1 or not defined then embed the property in an ElementCollection\n",
    "  }\n",
    "\n",
    "  OPTIONAL { ?Property owl:range ?Class }\n",
    "\n",
    "  FILTER NOT EXISTS {\n",
    "    #exclude object properties 'directly related to' a 'main' MAS4AI class\n",
    "    ?Property a owl:ObjectProperty ;\n",
    "      rdfs:domain/mas4ai:hasInterface [] .\n",
    "  }\n",
    "  FILTER NOT EXISTS { ?Property rdfs:range/mas4ai:hasInterface [] }\n",
    "\n",
    "  BIND(iri(concat( \"http://mas4ai.eu/id/smc/template/\", struuid() )) as ?SMC_iri)\n",
    "  BIND(concat(?propertyLabel, 's') as ?SMC_idShort)\n",
    "}\n",
    "''').graph.serialize())"
   ]
  },
  {
   "cell_type": "markdown",
   "metadata": {},
   "source": [
    "#### Cardinality >1 object properties (directly related to main AAS class)"
   ]
  },
  {
   "cell_type": "code",
   "execution_count": null,
   "metadata": {},
   "outputs": [],
   "source": [
    "add_prefixes(dataset)\n",
    "\n",
    "g_AAS.parse(data=g_owl.query('''\n",
    "CONSTRUCT {\n",
    "  # Submodel Element Collection (SMC)\n",
    "  ?SMC_iri a aas:SubmodelElementCollection ;\n",
    "    aasrefer:idShort ?SMCidShort  ;\n",
    "    aassem:semanticId [\n",
    "      a aas:Reference ;\n",
    "      aasref:keys [\n",
    "        a aas:Key ;\n",
    "        aaskey:idType aaskeyt:IRI ;\n",
    "        aaskey:value ?Class ;\n",
    "      ] ;\n",
    "    ] ;\n",
    "    prov:wasDerivedFrom ?Property, ?Class ;\n",
    "  .\n",
    "}\n",
    "WHERE {\n",
    "  {\n",
    "    ?Property a owl:ObjectProperty ;\n",
    "      rdfs:label ?propertyLabel ;\n",
    "      owl:maxCardinality ?maxCardinality .\n",
    "    FILTER( ?maxCardinality > 1 )\n",
    "  } UNION {\n",
    "    ?Property a owl:ObjectProperty ;\n",
    "      rdfs:label ?propertyLabel .\n",
    "    FILTER NOT EXISTS { ?Property owl:maxCardinality [] } #if owl:maxCardinality>1 or not defined then embed the property in an ElementCollection\n",
    "  }\n",
    "\n",
    "  ?Property rdfs:range ?Class\n",
    "\n",
    "  FILTER EXISTS {\n",
    "    #only include classes 'directly related to' the 'main' MAS4AI class\n",
    "    ?Property a owl:ObjectProperty ;\n",
    "      rdfs:domain/mas4ai:hasInterface [] .\n",
    "  }\n",
    "  FILTER NOT EXISTS { ?Property rdfs:range/mas4ai:hasInterface [] }\n",
    "\n",
    "  BIND(iri(concat( \"http://mas4ai.eu/id/smc/template/\", struuid() )) as ?SMC_iri)\n",
    "  BIND(concat(?propertyLabel, 's') as ?SMC_idShort)\n",
    "}\n",
    "''').graph.serialize())"
   ]
  },
  {
   "cell_type": "markdown",
   "metadata": {},
   "source": [
    "##### Relation between SMCs and properties + reference elements + SMCs"
   ]
  },
  {
   "cell_type": "code",
   "execution_count": null,
   "metadata": {},
   "outputs": [],
   "source": [
    "add_prefixes(dataset)\n",
    "\n",
    "g_conj.update('''\n",
    "INSERT {\n",
    "  GRAPH <http://mas4ai.eu/id/graph/aas> {\n",
    "    ?SMC aassmc:value ?Value .\n",
    "  }\n",
    "}\n",
    "WHERE {\n",
    "  {\n",
    "    ?SMC a aas:SubmodelElementCollection ;\n",
    "      prov:wasDerivedFrom ?Class .\n",
    "\n",
    "    ?Class a owl:Class .\n",
    "    ?Property rdfs:domain ?Class .\n",
    "  } UNION {\n",
    "    ?SMC a aas:SubmodelElementCollection ;\n",
    "      prov:wasDerivedFrom ?Property .\n",
    "  }\n",
    "\n",
    "  ?SubmodelElementType rdfs:subClassOf+ aas:SubmodelElement .\n",
    "  ?Value a ?SubmodelElementType ;\n",
    "    prov:wasDerivedFrom ?Property .\n",
    "\n",
    "  FILTER (?Value != ?SMC)\n",
    "}\n",
    "''')"
   ]
  },
  {
   "cell_type": "markdown",
   "metadata": {},
   "source": [
    "### Submodel\n",
    "* A `sh:NodeShape` is converted to an `aas:Submodel` and embeds all `sh:PropertyShape`s that are linked to the `sh:NodeShape` via `sh:property` if they are object properties."
   ]
  },
  {
   "cell_type": "code",
   "execution_count": null,
   "metadata": {},
   "outputs": [],
   "source": [
    "add_prefixes(dataset)\n",
    "\n",
    "g_AAS.parse(data=g_owl.query('''\n",
    "CONSTRUCT {\n",
    "  # Submodel (SM)\n",
    "  ?SM_iri a aas:Submodel ;\n",
    "    aassem:semanticId [\n",
    "      a aas:Reference ;\n",
    "      aasref:keys [\n",
    "        a aas:Key ;\n",
    "        aaskey:idType aaskeyt:IRI ;\n",
    "        aaskey:value ?Property ;\n",
    "      ] ;\n",
    "    ] ;\n",
    "    prov:wasDerivedFrom ?Class, ?Property ;\n",
    "  .\n",
    "}\n",
    "WHERE {\n",
    "  ?Class a owl:Class .\n",
    "\n",
    "  {\n",
    "    # Main Submodel for AAS\n",
    "    FILTER EXISTS { ?Class mas4ai:hasInterface [] }\n",
    "    FILTER NOT EXISTS { [] rdfs:subClassOf ?Class }\n",
    "  } UNION {\n",
    "    # Submodel for object properties with domain 'main' AAS class\n",
    "    ?Property a owl:ObjectProperty ;\n",
    "      rdfs:domain/mas4ai:hasInterface [] ;\n",
    "      rdfs:range ?Class .\n",
    "  }\n",
    "\n",
    "  FILTER EXISTS { [] rdfs:domain ?Class }\n",
    "\n",
    "  BIND(iri(concat( \"http://mas4ai.eu/id/sm/template/\", struuid() )) as ?SM_iri)\n",
    "}\n",
    "''').graph.serialize())"
   ]
  },
  {
   "cell_type": "markdown",
   "metadata": {},
   "source": [
    "##### Relation between submodels and properties + submodel element collections"
   ]
  },
  {
   "cell_type": "code",
   "execution_count": null,
   "metadata": {},
   "outputs": [],
   "source": [
    "add_prefixes(dataset)\n",
    "\n",
    "g_conj.update('''\n",
    "INSERT {\n",
    "  GRAPH <http://mas4ai.eu/id/graph/aas> {\n",
    "    ?Submodel aassm:submodelElements ?SubmodelElement .\n",
    "  }\n",
    "}\n",
    "WHERE {\n",
    "  {\n",
    "    ?Submodel a aas:Submodel ;\n",
    "      prov:wasDerivedFrom ?Class .\n",
    "\n",
    "    ?Property a owl:DatatypeProperty ;\n",
    "      rdfs:domain ?Class .\n",
    "\n",
    "    ?SubmodelElement prov:wasDerivedFrom ?Property .\n",
    "\n",
    "    FILTER NOT EXISTS { ?Submodel prov:wasDerivedFrom/rdfs:range/mas4ai:hasInterface [] }\n",
    "  } UNION {\n",
    "    ?Submodel a aas:Submodel ;\n",
    "      prov:wasDerivedFrom ?Property .\n",
    "    ?SubmodelElement a aas:ReferenceElement ;\n",
    "      prov:wasDerivedFrom ?Property .\n",
    "  } UNION {\n",
    "    ?Submodel a aas:Submodel ;\n",
    "      prov:wasDerivedFrom ?Property .\n",
    "\n",
    "    ?SubmodelElement a aas:SubmodelElementCollection ;\n",
    "      prov:wasDerivedFrom ?Property .\n",
    "    FILTER NOT EXISTS { ?Property owl:maxCardinality 1 }\n",
    "  }\n",
    "\n",
    "  #exclude nested submodel elements\n",
    "  FILTER NOT EXISTS {\n",
    "    [] a aas:SubmodelElementCollection ;\n",
    "      aassmc:value ?SubmodelElement .\n",
    "  }\n",
    "}\n",
    "''')"
   ]
  },
  {
   "cell_type": "markdown",
   "metadata": {},
   "source": [
    "### AssetAdministrationShell"
   ]
  },
  {
   "cell_type": "code",
   "execution_count": null,
   "metadata": {},
   "outputs": [],
   "source": [
    "add_prefixes(dataset)\n",
    "\n",
    "g_AAS.parse(data=g_owl.query('''\n",
    "CONSTRUCT {\n",
    "  # Asset Administration Shell (AAS)\n",
    "  ?AAS_iri a aas:AssetAdministrationShell ;\n",
    "    aassem:semanticId [\n",
    "      a aas:Reference ;\n",
    "      aasref:keys [\n",
    "        a aas:Key ;\n",
    "        aaskey:idType aaskeyt:IRI ;\n",
    "        aaskey:value ?AASClass ;\n",
    "      ] ;\n",
    "    ] ;\n",
    "    prov:wasDerivedFrom ?AASClass ;\n",
    "  .\n",
    "}\n",
    "WHERE {\n",
    "  {\n",
    "    ?AASClass a owl:Class .\n",
    "  } UNION {\n",
    "    ?AASClass a rdfs:Class .\n",
    "  }\n",
    "\n",
    "  ?AASClass mas4ai:hasInterface [] .\n",
    "\n",
    "  BIND(iri(concat( \"http://mas4ai.eu/id/aas/template/\", struuid() )) as ?AAS_iri)\n",
    "}\n",
    "''').graph.serialize())"
   ]
  },
  {
   "cell_type": "markdown",
   "metadata": {},
   "source": [
    "##### Relations between asset administration shell and submodels"
   ]
  },
  {
   "cell_type": "code",
   "execution_count": null,
   "metadata": {},
   "outputs": [],
   "source": [
    "add_prefixes(dataset)\n",
    "\n",
    "g_conj.update('''\n",
    "INSERT {\n",
    "  GRAPH <http://mas4ai.eu/id/graph/aas> {\n",
    "    ?AAS aasaas:submodels ?Submodel .\n",
    "  }\n",
    "}\n",
    "WHERE {\n",
    "  {\n",
    "    # Main Submodel for AAS\n",
    "    ?AAS a aas:AssetAdministrationShell ;\n",
    "      prov:wasDerivedFrom ?AASClass .\n",
    "\n",
    "    ?Submodel a aas:Submodel ;\n",
    "      prov:wasDerivedFrom ?AASClass .\n",
    "\n",
    "    FILTER NOT EXISTS { ?Submodel prov:wasDerivedFrom/a owl:ObjectProperty }\n",
    "  } UNION {\n",
    "    ?AAS a aas:AssetAdministrationShell ;\n",
    "      prov:wasDerivedFrom ?AASClass .\n",
    "\n",
    "    ?Submodel a aas:Submodel ;\n",
    "      prov:wasDerivedFrom ?Class, ?Property .\n",
    "\n",
    "    ?Property a owl:ObjectProperty ;\n",
    "      rdfs:domain ?AASClass ;\n",
    "      rdfs:range ?Class .\n",
    "  }\n",
    "\n",
    "  ?AASClass mas4ai:hasInterface [] .\n",
    "}\n",
    "''')"
   ]
  },
  {
   "cell_type": "markdown",
   "metadata": {},
   "source": [
    "##### Reference element value (reference to other AAS)"
   ]
  },
  {
   "cell_type": "code",
   "execution_count": null,
   "metadata": {},
   "outputs": [],
   "source": [
    "add_prefixes(dataset)\n",
    "\n",
    "g_conj.update('''\n",
    "INSERT {\n",
    "  GRAPH <http://mas4ai.eu/id/graph/aas> {\n",
    "    ?ReferenceElement aasrefe:value [\n",
    "        a aas:Reference ;\n",
    "        aasref:keys [\n",
    "          a aas:Key ;\n",
    "          aaskey:idType aaskeyt:AssetAdministrationShell ;\n",
    "          aaskey:value ?_ReferenceAAS ;\n",
    "        ] ;\n",
    "      ] ;\n",
    "    .\n",
    "  }\n",
    "}\n",
    "WHERE {\n",
    "  ?ReferenceElement a aas:ReferenceElement ;\n",
    "    prov:wasDerivedFrom ?Property .\n",
    "\n",
    "  ?Property a owl:ObjectProperty .\n",
    "\n",
    "  ?ReferenceAAS a aas:AssetAdministrationShell ;\n",
    "    prov:wasDerivedFrom ?Class .\n",
    "\n",
    "  FILTER EXISTS {?Class mas4ai:hasInterface []}\n",
    "\n",
    "  BIND(str(?ReferenceAAS) as ?_ReferenceAAS)\n",
    "}\n",
    "''')"
   ]
  },
  {
   "cell_type": "markdown",
   "metadata": {},
   "source": [
    "### AssetAdministrationShellEnvironment"
   ]
  },
  {
   "cell_type": "code",
   "execution_count": null,
   "metadata": {},
   "outputs": [],
   "source": [
    "add_prefixes(dataset)\n",
    "\n",
    "g_AAS.update('''\n",
    "INSERT {\n",
    "  <http://mas4ai.eu/def/WP4/AASEnv> a aas:AssetAdministrationShellEnvironment ;\n",
    "    aasenv:assetAdministrationShells ?AAS ;\n",
    "    aasenv:submodels ?Submodel .\n",
    "}\n",
    "WHERE {\n",
    "  ?AAS a aas:AssetAdministrationShell ;\n",
    "    aasaas:submodel ?Submodel .\n",
    "\n",
    "  ?Submodel a aas:Submodel .\n",
    "}\n",
    "''')"
   ]
  },
  {
   "cell_type": "markdown",
   "metadata": {},
   "source": [
    "### Add common statements for objects of a certain type\n",
    "(if they don't exist yet)"
   ]
  },
  {
   "cell_type": "markdown",
   "metadata": {},
   "source": [
    "#### HasKind\n",
    "`aaskind:kind`"
   ]
  },
  {
   "cell_type": "code",
   "execution_count": null,
   "metadata": {},
   "outputs": [],
   "source": [
    "g_conj.update('''\n",
    "INSERT {\n",
    "  GRAPH <http://mas4ai.eu/id/graph/aas> {\n",
    "    ?Object aaskind:kind aasmod:Template .\n",
    "  }\n",
    "}\n",
    "WHERE {\n",
    "  ?Object a/rdfs:subClassOf* aas:HasKind .\n",
    "  FILTER NOT EXISTS { ?Object aaskind:kind [] }\n",
    "}\n",
    "''')"
   ]
  },
  {
   "cell_type": "markdown",
   "metadata": {},
   "source": [
    "#### Referable\n",
    "|Shapes predicate|AAS predicate|\n",
    "|---|---|\n",
    "| `rdfs:label` | `aasrefer:idShort`     |\n",
    "| `rdfs:comment` | `aasrefer:description` |\n",
    "| `skos:prefLabel` | `aasrefer:displayName` |"
   ]
  },
  {
   "cell_type": "code",
   "execution_count": null,
   "metadata": {},
   "outputs": [],
   "source": [
    "g_conj.update('''\n",
    "INSERT {\n",
    "  GRAPH <http://mas4ai.eu/id/graph/aas> {\n",
    "    ?Object aasrefer:idShort ?idShort ;\n",
    "      rdfs:label ?label ;\n",
    "      aasrefer:description ?description ;\n",
    "      aasrefer:displayName ?displayName ;\n",
    "    .\n",
    "  }\n",
    "}\n",
    "WHERE {\n",
    "  # Prefer attributes from owl:Class\n",
    "  { SELECT ?Object (if(bound(?Class), ?Class, ?Property) as ?Resource) {\n",
    "    ?Object a/rdfs:subClassOf* aas:Referable ;\n",
    "    OPTIONAL {\n",
    "      ?Object prov:wasDerivedFrom ?Class .\n",
    "      { ?Class a owl:Class } UNION { ?Class a rdfs:Class }\n",
    "    }\n",
    "    OPTIONAL {\n",
    "      ?Object prov:wasDerivedFrom ?Property .\n",
    "      { ?Property a owl:DatatypeProperty } UNION { ?Property a owl:ObjectProperty }\n",
    "    }\n",
    "  } }\n",
    "\n",
    "  ?Resource rdfs:label ?label .\n",
    "  OPTIONAL { ?Object aasrefer:idShort ?_idShort }\n",
    "  BIND ( REPLACE(COALESCE(?_idShort, ?label), \" \", \"_\") AS ?idShort )\n",
    "\n",
    "  OPTIONAL {\n",
    "    ?Resource rdfs:comment ?comment .\n",
    "    OPTIONAL { ?Object aasrefer:description ?_description }\n",
    "    BIND ( COALESCE(?_description, ?comment) AS ?description )\n",
    "  }\n",
    "\n",
    "  OPTIONAL {\n",
    "    ?Resource skos:prefLabel ?prefLabel .\n",
    "    OPTIONAL { ?Object aasrefer:displayName ?_displayName }\n",
    "    BIND ( COALESCE(?_displayName, ?prefLabel) AS ?displayName )\n",
    "  }\n",
    "}\n",
    "''')"
   ]
  },
  {
   "cell_type": "markdown",
   "metadata": {},
   "source": [
    "## Inspect AAS graph"
   ]
  },
  {
   "cell_type": "code",
   "execution_count": null,
   "metadata": {
    "scrolled": true
   },
   "outputs": [],
   "source": [
    "print(g_AAS.serialize())"
   ]
  },
  {
   "cell_type": "code",
   "execution_count": null,
   "metadata": {},
   "outputs": [],
   "source": [
    "# Store to file\n",
    "g_AAS.serialize(f'examples/{file_name}_template.aas.ttl')\n",
    "# g_AAS.serialize('examples/f'examples/{file_name}_template.aas.jsonld', format='json-ld')"
   ]
  },
  {
   "cell_type": "raw",
   "metadata": {},
   "source": [
    "from pyshacl import validate \n",
    "\n",
    "sg = Graph()\n",
    "sg.parse(r'C:\\Users\\s158699\\Documents\\GitRepos\\aas-specs\\schemas\\rdf\\shacl-schema.ttl')\n",
    "\n",
    "og = Graph()\n",
    "og.parse(r'C:\\Users\\s158699\\Documents\\GitRepos\\aas-specs\\schemas\\rdf\\rdf-ontology.ttl')"
   ]
  },
  {
   "cell_type": "raw",
   "metadata": {},
   "source": [
    "r = validate(g_AAS,\n",
    "      shacl_graph=sg,\n",
    "      ont_graph=og,\n",
    "      inference='rdfs',\n",
    "      abort_on_first=False,\n",
    "      allow_warnings=False,\n",
    "      meta_shacl=False,\n",
    "      advanced=False,\n",
    "      js=False,\n",
    "      debug=False)\n",
    "conforms, results_graph, results_text = r"
   ]
  },
  {
   "cell_type": "raw",
   "metadata": {},
   "source": [
    "print(results_text)"
   ]
  }
 ],
 "metadata": {
  "kernelspec": {
   "display_name": "Python 3",
   "language": "python",
   "name": "python3"
  },
  "language_info": {
   "codemirror_mode": {
    "name": "ipython",
    "version": 3
   },
   "file_extension": ".py",
   "mimetype": "text/x-python",
   "name": "python",
   "nbconvert_exporter": "python",
   "pygments_lexer": "ipython3",
   "version": "3.8.5"
  }
 },
 "nbformat": 4,
 "nbformat_minor": 4
}
